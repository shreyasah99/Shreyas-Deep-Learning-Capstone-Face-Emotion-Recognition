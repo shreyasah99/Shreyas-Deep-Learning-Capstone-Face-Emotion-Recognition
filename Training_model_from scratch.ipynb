{
 "cells": [
  {
   "cell_type": "markdown",
   "metadata": {},
   "source": [
    "In our project we have to detect the real time emotions of students so that teachers can understand if students are able to grasp the topic according to students expressions or emotions.\n",
    "So in our project , we first train the model on specific dataset through CNN , then with the help of opencv we capture the real time image , then apply our trained model on that image to detect the emotion of the person .\n",
    "We made the frontend with the help of streamlit and deployed the entire model on heruko cloud."
   ]
  },
  {
   "cell_type": "markdown",
   "metadata": {},
   "source": [
    "In this ipynb file we will train the model on a dataset.\n",
    "\n",
    "The dataset consists of 2 folders - training and test\n",
    "All the images of dataset are grayscale images of size 48,48\n",
    "Both these folders consist of 7 folders each- angry ,disguist,fear,happy,neutral,sad,suprise\n",
    "All these 7 folders contain images of peoples faces with respective emotion."
   ]
  },
  {
   "cell_type": "markdown",
   "metadata": {
    "id": "EMefrVPCg-60"
   },
   "source": [
    "### Importing the libraries"
   ]
  },
  {
   "cell_type": "code",
   "execution_count": 1,
   "metadata": {
    "id": "sCV30xyVhFbE"
   },
   "outputs": [],
   "source": [
    "import tensorflow as tf\n",
    "from keras.preprocessing.image import ImageDataGenerator          "
   ]
  },
  {
   "cell_type": "code",
   "execution_count": 2,
   "metadata": {
    "id": "FIleuCAjoFD8"
   },
   "outputs": [
    {
     "data": {
      "text/plain": [
       "'2.3.0'"
      ]
     },
     "execution_count": 2,
     "metadata": {},
     "output_type": "execute_result"
    }
   ],
   "source": [
    "tf.__version__"
   ]
  },
  {
   "cell_type": "code",
   "execution_count": 3,
   "metadata": {},
   "outputs": [],
   "source": [
    "import seaborn as sns\n",
    "from matplotlib import pyplot as plt \n",
    "import numpy as np"
   ]
  },
  {
   "cell_type": "markdown",
   "metadata": {
    "id": "oxQxCBWyoGPE"
   },
   "source": [
    "## Part 1 - Data Preprocessing"
   ]
  },
  {
   "cell_type": "markdown",
   "metadata": {
    "id": "MvE-heJNo3GG"
   },
   "source": [
    "### Preprocessing the Training set"
   ]
  },
  {
   "cell_type": "code",
   "execution_count": 4,
   "metadata": {
    "id": "0koUcJMJpEBD"
   },
   "outputs": [
    {
     "name": "stdout",
     "output_type": "stream",
     "text": [
      "Found 28709 images belonging to 7 classes.\n"
     ]
    }
   ],
   "source": [
    "'''We create an instance train_datagen , and with the help of ImageDataGenerator class we apply preprocessing techniques \n",
    "  rescaling - feature scaling on each pixels, zoom etc.\n",
    "  various transformation like shear_range , zoom_range, horizontal_flip  so that model desent overfit)\n",
    "  ''' \n",
    "\n",
    "train_datagen = ImageDataGenerator(rescale = 1./255,\n",
    "                                   shear_range = 0.2,\n",
    "                                   zoom_range = 0.2,\n",
    "                                   horizontal_flip = True)\n",
    "\n",
    "\n",
    "\n",
    "\n",
    "\n",
    "#  train_datagen object is connected to training datset with help of flow_from_directory method\n",
    "#  size of all images is converted to 48,48\n",
    "#  batch-size was kept as 32. We tried different batch-size and 32 gave maximum accuracy.\n",
    "#  class_mode is kept as categorical since there are more then 2 classes\n",
    "\n",
    "training_set = train_datagen.flow_from_directory('dataset/training_set',\n",
    "                                                 target_size = (48, 48),\n",
    "                                             \n",
    "                                                 batch_size = 32,\n",
    "                                                 class_mode = 'categorical')"
   ]
  },
  {
   "cell_type": "markdown",
   "metadata": {
    "id": "mrCMmGw9pHys"
   },
   "source": [
    "### Preprocessing the Test set"
   ]
  },
  {
   "cell_type": "code",
   "execution_count": 5,
   "metadata": {
    "id": "SH4WzfOhpKc3"
   },
   "outputs": [
    {
     "name": "stdout",
     "output_type": "stream",
     "text": [
      "Found 7178 images belonging to 7 classes.\n"
     ]
    }
   ],
   "source": [
    "\"\"\"  We are not going to do any transformations on test images as they are treated as new images which \n",
    "  will be received from live webcam without any transformation, so that we can get exact accuracy of our model \"\"\"\n",
    "\n",
    "test_datagen = ImageDataGenerator(rescale = 1./255)\n",
    "\n",
    "\n",
    "\n",
    "test_set = test_datagen.flow_from_directory('dataset/test_set',\n",
    "                                            target_size = (48, 48),\n",
    "                                            batch_size = 32,\n",
    "                                            class_mode = 'categorical')"
   ]
  },
  {
   "cell_type": "markdown",
   "metadata": {
    "id": "af8O4l90gk7B"
   },
   "source": [
    "## Part 2 - Building the CNN"
   ]
  },
  {
   "cell_type": "markdown",
   "metadata": {
    "id": "ces1gXY2lmoX"
   },
   "source": [
    "### Initialising the CNN"
   ]
  },
  {
   "cell_type": "code",
   "execution_count": 6,
   "metadata": {
    "id": "SAUt4UMPlhLS"
   },
   "outputs": [],
   "source": [
    "cnn = tf.keras.models.Sequential()"
   ]
  },
  {
   "cell_type": "markdown",
   "metadata": {
    "id": "u5YJj_XMl5LF"
   },
   "source": [
    "### Step 1 - Convolution"
   ]
  },
  {
   "cell_type": "code",
   "execution_count": 7,
   "metadata": {
    "id": "XPzPrMckl-hV"
   },
   "outputs": [],
   "source": [
    "cnn.add(tf.keras.layers.Conv2D(filters=32, kernel_size=3, activation='relu', input_shape=[48,48,3]))\n",
    "\n",
    "# 32 = no of feature dectotor , no of feature map                                                                              \n",
    "# 3 (channels) since we have coloured image r,g,b        \n",
    "\n",
    "           "
   ]
  },
  {
   "cell_type": "markdown",
   "metadata": {
    "id": "tf87FpvxmNOJ"
   },
   "source": [
    "### Step 2 - Pooling"
   ]
  },
  {
   "cell_type": "code",
   "execution_count": 8,
   "metadata": {
    "id": "ncpqPl69mOac"
   },
   "outputs": [],
   "source": [
    "cnn.add(tf.keras.layers.MaxPool2D(pool_size=2, strides=2))"
   ]
  },
  {
   "cell_type": "markdown",
   "metadata": {
    "id": "xaTOgD8rm4mU"
   },
   "source": [
    "### Adding 2 more convolutional layer"
   ]
  },
  {
   "cell_type": "code",
   "execution_count": 9,
   "metadata": {
    "id": "i_-FZjn_m8gk"
   },
   "outputs": [],
   "source": [
    "cnn.add(tf.keras.layers.Conv2D(filters=32, kernel_size=3, activation='relu'))\n",
    "cnn.add(tf.keras.layers.MaxPool2D(pool_size=2, strides=2))"
   ]
  },
  {
   "cell_type": "code",
   "execution_count": 10,
   "metadata": {},
   "outputs": [],
   "source": [
    "cnn.add(tf.keras.layers.Conv2D(filters=32, kernel_size=3, activation='relu'))\n",
    "cnn.add(tf.keras.layers.MaxPool2D(pool_size=2, strides=2))\n",
    "\n"
   ]
  },
  {
   "cell_type": "markdown",
   "metadata": {
    "id": "tmiEuvTunKfk"
   },
   "source": [
    "### Step 3 - Flattening"
   ]
  },
  {
   "cell_type": "code",
   "execution_count": 11,
   "metadata": {
    "id": "6AZeOGCvnNZn"
   },
   "outputs": [],
   "source": [
    "cnn.add(tf.keras.layers.Flatten())"
   ]
  },
  {
   "cell_type": "markdown",
   "metadata": {
    "id": "dAoSECOm203v"
   },
   "source": [
    "### Step 4 - Full Connection"
   ]
  },
  {
   "cell_type": "code",
   "execution_count": 12,
   "metadata": {
    "id": "8GtmUlLd26Nq"
   },
   "outputs": [],
   "source": [
    "cnn.add(tf.keras.layers.Dense(units=128, activation='relu'))     # 128 = no of nodes in hidden layer"
   ]
  },
  {
   "cell_type": "markdown",
   "metadata": {
    "id": "yTldFvbX28Na"
   },
   "source": [
    "### Step 5 - Output Layer"
   ]
  },
  {
   "cell_type": "code",
   "execution_count": 13,
   "metadata": {
    "id": "1p_Zj1Mc3Ko_"
   },
   "outputs": [],
   "source": [
    "cnn.add(tf.keras.layers.Dense(units=7, activation='softmax'))\n",
    "# 7 = no of nodes in output layer\n",
    "# activation = softmax since more then 2 possible output and it will give the ranking"
   ]
  },
  {
   "cell_type": "markdown",
   "metadata": {
    "id": "D6XkI90snSDl"
   },
   "source": [
    "## Part 3 - Training the CNN"
   ]
  },
  {
   "cell_type": "markdown",
   "metadata": {
    "id": "vfrFQACEnc6i"
   },
   "source": [
    "### Compiling the CNN"
   ]
  },
  {
   "cell_type": "code",
   "execution_count": 14,
   "metadata": {
    "id": "NALksrNQpUlJ"
   },
   "outputs": [],
   "source": [
    "cnn.compile(optimizer = 'adam', loss = 'categorical_crossentropy', metrics = ['accuracy'])\n",
    "# loss= categorical_crossentropy since we have more then 2 class\n",
    "# adam = to find optimal weights ( one of stophastic gradient descent )"
   ]
  },
  {
   "cell_type": "markdown",
   "metadata": {
    "id": "ehS-v3MIpX2h"
   },
   "source": [
    "### Training the CNN on the Training set and evaluating it on the Test set"
   ]
  },
  {
   "cell_type": "code",
   "execution_count": 18,
   "metadata": {
    "id": "XUj1W4PJptta"
   },
   "outputs": [
    {
     "name": "stdout",
     "output_type": "stream",
     "text": [
      "Epoch 1/25\n",
      "898/898 [==============================] - 69s 77ms/step - loss: 1.0391 - accuracy: 0.6057 - val_loss: 1.1679 - val_accuracy: 0.5690\n",
      "Epoch 2/25\n",
      "898/898 [==============================] - 65s 73ms/step - loss: 1.0338 - accuracy: 0.6100 - val_loss: 1.1623 - val_accuracy: 0.5663\n",
      "Epoch 3/25\n",
      "898/898 [==============================] - 65s 73ms/step - loss: 1.0297 - accuracy: 0.6099 - val_loss: 1.1702 - val_accuracy: 0.5695\n",
      "Epoch 4/25\n",
      "898/898 [==============================] - 65s 73ms/step - loss: 1.0257 - accuracy: 0.6139 - val_loss: 1.1530 - val_accuracy: 0.5798\n",
      "Epoch 5/25\n",
      "898/898 [==============================] - 65s 73ms/step - loss: 1.0209 - accuracy: 0.6139 - val_loss: 1.1653 - val_accuracy: 0.5756\n",
      "Epoch 6/25\n",
      "898/898 [==============================] - 65s 72ms/step - loss: 1.0143 - accuracy: 0.6140 - val_loss: 1.1909 - val_accuracy: 0.5589\n",
      "Epoch 7/25\n",
      "898/898 [==============================] - 65s 72ms/step - loss: 1.0105 - accuracy: 0.6199 - val_loss: 1.1510 - val_accuracy: 0.5777\n",
      "Epoch 8/25\n",
      "898/898 [==============================] - 65s 72ms/step - loss: 1.0067 - accuracy: 0.6183 - val_loss: 1.1593 - val_accuracy: 0.5724\n",
      "Epoch 9/25\n",
      "898/898 [==============================] - 65s 72ms/step - loss: 1.0024 - accuracy: 0.6215 - val_loss: 1.1640 - val_accuracy: 0.5777\n",
      "Epoch 10/25\n",
      "898/898 [==============================] - 65s 72ms/step - loss: 0.9882 - accuracy: 0.6275 - val_loss: 1.1806 - val_accuracy: 0.5756\n",
      "Epoch 11/25\n",
      "898/898 [==============================] - 89s 99ms/step - loss: 0.9875 - accuracy: 0.6253 - val_loss: 1.1686 - val_accuracy: 0.5711\n",
      "Epoch 12/25\n",
      "898/898 [==============================] - 68s 76ms/step - loss: 0.9912 - accuracy: 0.6280 - val_loss: 1.1534 - val_accuracy: 0.5751\n",
      "Epoch 13/25\n",
      "898/898 [==============================] - 67s 74ms/step - loss: 0.9787 - accuracy: 0.6314 - val_loss: 1.1905 - val_accuracy: 0.5644\n",
      "Epoch 14/25\n",
      "898/898 [==============================] - 67s 74ms/step - loss: 0.9802 - accuracy: 0.6300 - val_loss: 1.1873 - val_accuracy: 0.5793\n",
      "Epoch 15/25\n",
      "898/898 [==============================] - 67s 75ms/step - loss: 0.9809 - accuracy: 0.6275 - val_loss: 1.1884 - val_accuracy: 0.5777\n",
      "Epoch 16/25\n",
      "898/898 [==============================] - 68s 75ms/step - loss: 0.9737 - accuracy: 0.6353 - val_loss: 1.1834 - val_accuracy: 0.5755\n",
      "Epoch 17/25\n",
      "898/898 [==============================] - 74s 82ms/step - loss: 0.9643 - accuracy: 0.6350 - val_loss: 1.1874 - val_accuracy: 0.5747\n",
      "Epoch 18/25\n",
      "898/898 [==============================] - 70s 78ms/step - loss: 0.9643 - accuracy: 0.6351 - val_loss: 1.1932 - val_accuracy: 0.5684\n",
      "Epoch 19/25\n",
      "898/898 [==============================] - 65s 72ms/step - loss: 0.9629 - accuracy: 0.6360 - val_loss: 1.2128 - val_accuracy: 0.5651\n",
      "Epoch 20/25\n",
      "898/898 [==============================] - 65s 72ms/step - loss: 0.9570 - accuracy: 0.6381 - val_loss: 1.2105 - val_accuracy: 0.5688\n",
      "Epoch 21/25\n",
      "898/898 [==============================] - 67s 75ms/step - loss: 0.9580 - accuracy: 0.6407 - val_loss: 1.2076 - val_accuracy: 0.5655\n",
      "Epoch 22/25\n",
      "898/898 [==============================] - 70s 78ms/step - loss: 0.9502 - accuracy: 0.6429 - val_loss: 1.1983 - val_accuracy: 0.5715\n",
      "Epoch 23/25\n",
      "898/898 [==============================] - 66s 73ms/step - loss: 0.9496 - accuracy: 0.6404 - val_loss: 1.2233 - val_accuracy: 0.5671\n",
      "Epoch 24/25\n",
      "898/898 [==============================] - 69s 77ms/step - loss: 0.9510 - accuracy: 0.6431 - val_loss: 1.1662 - val_accuracy: 0.5797\n",
      "Epoch 25/25\n",
      "898/898 [==============================] - 70s 78ms/step - loss: 0.9484 - accuracy: 0.6431 - val_loss: 1.1968 - val_accuracy: 0.5786\n"
     ]
    }
   ],
   "source": [
    "a = cnn.fit(x = training_set, validation_data = test_set, epochs = 25)\n",
    "# we tried various epochs. 25 gave maximum accuracy"
   ]
  },
  {
   "cell_type": "code",
   "execution_count": null,
   "metadata": {},
   "outputs": [],
   "source": []
  },
  {
   "cell_type": "markdown",
   "metadata": {},
   "source": [
    "## Part 4 - Plotting  Accuracy "
   ]
  },
  {
   "cell_type": "code",
   "execution_count": 19,
   "metadata": {},
   "outputs": [],
   "source": [
    "def plot_model_history(model_history):\n",
    "    \n",
    "    #Plotting Accuracy and Loss curves \n",
    "    \n",
    "    fig, axs = plt.subplots(1,2,figsize=(15,5))\n",
    "    # summarize history for accuracy\n",
    "    axs[0].plot(range(1,len(model_history.history['accuracy'])+1),model_history.history['accuracy'])\n",
    "    axs[0].plot(range(1,len(model_history.history['val_accuracy'])+1),model_history.history['val_accuracy'])\n",
    "    axs[0].set_title('Model Accuracy')\n",
    "    axs[0].set_ylabel('Accuracy')\n",
    "    axs[0].set_xlabel('Epoch')\n",
    "    axs[0].legend(['train', 'val'], loc='best')\n",
    "    # summarize history for loss\n",
    "    axs[1].plot(range(1,len(model_history.history['loss'])+1),model_history.history['loss'])\n",
    "    axs[1].plot(range(1,len(model_history.history['val_loss'])+1),model_history.history['val_loss'])\n",
    "    axs[1].set_title('Model Loss')\n",
    "    axs[1].set_ylabel('Loss')\n",
    "    axs[1].set_xlabel('Epoch')\n",
    "    axs[1].legend(['train', 'val'], loc='best')\n",
    "    fig.savefig('plot.png')\n",
    "    plt.show()"
   ]
  },
  {
   "cell_type": "code",
   "execution_count": 20,
   "metadata": {},
   "outputs": [
    {
     "data": {
      "image/png": "[encoded data removed]",
      "text/plain": [
       "<Figure size 1080x360 with 2 Axes>"
      ]
     },
     "metadata": {
      "needs_background": "light"
     },
     "output_type": "display_data"
    }
   ],
   "source": [
    "plot_model_history(a)"
   ]
  },
  {
   "cell_type": "markdown",
   "metadata": {
    "id": "gsSiWEJY1BPB"
   },
   "source": [
    "Saving the model "
   ]
  },
  {
   "cell_type": "code",
   "execution_count": 39,
   "metadata": {
    "id": "ED9KB3I54c1i"
   },
   "outputs": [],
   "source": [
    "cnn.save('shreyas_scratch_model.h5')    \n",
    "# then the model was saved in h5 file so that we can use this model in future even without running the whole code again"
   ]
  },
  {
   "cell_type": "code",
   "execution_count": null,
   "metadata": {},
   "outputs": [],
   "source": []
  }
 ],
 "metadata": {
  "colab": {
   "collapsed_sections": [],
   "name": "Copy of convolutional_neural_network.ipynb",
   "provenance": [
    {
     "file_id": "1Y-a4g98w93GHswXLRLoiogvMYNPgzPE9",
     "timestamp": 1619263004549
    }
   ]
  },
  "kernelspec": {
   "display_name": "Python 3",
   "language": "python",
   "name": "python3"
  },
  "language_info": {
   "codemirror_mode": {
    "name": "ipython",
    "version": 3
   },
   "file_extension": ".py",
   "mimetype": "text/x-python",
   "name": "python",
   "nbconvert_exporter": "python",
   "pygments_lexer": "ipython3",
   "version": "3.8.8"
  }
 },
 "nbformat": 4,
 "nbformat_minor": 1
}
